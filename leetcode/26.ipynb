{
 "cells": [
  {
   "cell_type": "markdown",
   "id": "7ced7d04",
   "metadata": {},
   "source": [
    "# Удалить дубликаты из отсортированного массива\n",
    "\n",
    "Дан массив целых чисел , numsотсортированный по неубывающему порядку . Удалить дубликаты на месте так, чтобы каждый уникальный элемент встречался только один раз . Относительный порядок элементов должен оставаться неизменным . Затем вернуть количество уникальных элементов в массивеnums .\n",
    "\n",
    "Рассмотрите ряд уникальных элементов , чтобы numsбыть kпринятым, вам необходимо сделать следующее:\n",
    "\n",
    "Измените массив numsтак, чтобы первые kэлементы numsсодержали уникальные элементы в том порядке, в котором они были numsизначально. Остальные элементы numsне важны, как и размер массива nums.\n",
    "Возвращаться k.\n",
    "\n",
    "Ссылка на задачу: https://leetcode.com/problems/remove-duplicates-from-sorted-array/description/\n",
    "\n"
   ]
  },
  {
   "cell_type": "markdown",
   "id": "cb40e6b3",
   "metadata": {},
   "source": [
    "# Идея решения 1:\n",
    "\n",
    "Идем по списку указателем. В начальный момент времени указать p имеет значение 0 и указывает на первый элемент массива, количество уникальных элементов item_counts = 1. \n",
    "Если следующий после указателя элемент равен элементу, на который указывает указатель, то мы идем дальше и значение указателя не меняем. Если нам встречается элемент отличный от текущего, то мы записываем его на место p+1 и увеличиваем счетчик  item_counts.\n",
    "Так мы продолжаем пока не достигнем элемента, равного последнему элементу в списке\n",
    "\n",
    "Предполагаемые крайние случаи\n",
    "- массив из одного элемента\n",
    "- массив из 2 и более одинаковых элементов\n",
    "- массив из 3 и более разных элементов\n",
    "\n",
    "Дополнение:\n",
    "- От переменной item_counts можно избавиться, указатель содержит нужную информацию\n"
   ]
  },
  {
   "cell_type": "code",
   "execution_count": null,
   "id": "137786dd",
   "metadata": {},
   "outputs": [
    {
     "name": "stdout",
     "output_type": "stream",
     "text": [
      "[0, 1, 2, 3, 4, 2, 2, 3, 3, 4] 5\n"
     ]
    }
   ],
   "source": [
    "from typing import List\n",
    "\n",
    "\n",
    "\n",
    "class Solution:\n",
    "    def removeDuplicates(self, nums: List[int]) -> int:\n",
    "        last_item = nums[-1]\n",
    "        p = 0\n",
    "        point_item = nums[p]\n",
    "\n",
    "        for i in range(1, len(nums)):\n",
    "            cur_item = nums[i]\n",
    "            if cur_item != point_item:\n",
    "                p += 1\n",
    "                nums[p] = cur_item\n",
    "                point_item = cur_item\n",
    "\n",
    "            if cur_item == last_item:\n",
    "                break\n",
    "\n",
    "        return p + 1\n",
    "\n",
    "\n",
    "solver = Solution()\n",
    "cases = [\n",
    "    [[0,0,1,1,1,2,2,3,3,4], []]\n",
    "]\n",
    "for case, excpected in cases:\n",
    "    r = solver.removeDuplicates(case)\n",
    "    print(case, r)"
   ]
  },
  {
   "cell_type": "markdown",
   "id": "e1e07fdf",
   "metadata": {},
   "source": [
    "Временная сложность: O(n) \n",
    "\n",
    "Пространственная сложность: O(1)"
   ]
  },
  {
   "cell_type": "markdown",
   "id": "d0e20675",
   "metadata": {},
   "source": [
    "Это решение можно написать лаконичнее, но требуется дорабоать проверку, что мы достигли последнего элемента :\n",
    "\n",
    "\n",
    "Источник: https://leetcode.com/problems/remove-duplicates-from-sorted-array/solutions/5540670/video-use-two-pointers-coding-exercise/"
   ]
  },
  {
   "cell_type": "code",
   "execution_count": null,
   "id": "04c9eacc",
   "metadata": {},
   "outputs": [],
   "source": [
    "class Solution:\n",
    "    def removeDuplicates(self, nums: List[int]) -> int:\n",
    "        i = 0\n",
    "\n",
    "        for j in range(1, len(nums)):\n",
    "            if nums[j] != nums[i]:\n",
    "                i += 1\n",
    "                nums[i] = nums[j]\n",
    "        \n",
    "        return i + 1"
   ]
  }
 ],
 "metadata": {
  "kernelspec": {
   "display_name": "Python 3",
   "language": "python",
   "name": "python3"
  },
  "language_info": {
   "codemirror_mode": {
    "name": "ipython",
    "version": 3
   },
   "file_extension": ".py",
   "mimetype": "text/x-python",
   "name": "python",
   "nbconvert_exporter": "python",
   "pygments_lexer": "ipython3",
   "version": "3.10.12"
  }
 },
 "nbformat": 4,
 "nbformat_minor": 5
}
